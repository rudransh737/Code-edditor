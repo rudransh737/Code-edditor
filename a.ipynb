{
 "cells": [
  {
   "cell_type": "code",
   "execution_count": 1,
   "id": "166d6ce0",
   "metadata": {},
   "outputs": [
    {
     "ename": "SystemExit",
     "evalue": "0",
     "output_type": "error",
     "traceback": [
      "An exception has occurred, use %tb to see the full traceback.\n",
      "\u001b[1;31mSystemExit\u001b[0m\u001b[1;31m:\u001b[0m 0\n"
     ]
    },
    {
     "name": "stderr",
     "output_type": "stream",
     "text": [
      "C:\\Users\\Hp\\AppData\\Roaming\\Python\\Python313\\site-packages\\IPython\\core\\interactiveshell.py:3585: UserWarning: To exit: use 'exit', 'quit', or Ctrl-D.\n",
      "  warn(\"To exit: use 'exit', 'quit', or Ctrl-D.\", stacklevel=1)\n"
     ]
    }
   ],
   "source": [
    "import sys\n",
    "from PySide6.QtWidgets import (\n",
    "    QApplication, QMainWindow, QPushButton, QInputDialog,\n",
    "    QVBoxLayout, QWidget, QLabel\n",
    ")\n",
    "from PySide6.QtCore import Qt\n",
    "\n",
    "class MyWindow(QMainWindow):\n",
    "    def __init__(self):\n",
    "        super().__init__()\n",
    "        self.setWindowTitle(\"PySide6 Input Popup Example\")\n",
    "        self.setGeometry(100, 100, 400, 200) # x, y, width, height\n",
    "\n",
    "        # Create a central widget and layout\n",
    "        central_widget = QWidget()\n",
    "        self.setCentralWidget(central_widget)\n",
    "        layout = QVBoxLayout(central_widget)\n",
    "        layout.setAlignment(Qt.AlignmentFlag.AlignCenter) # Center the content\n",
    "\n",
    "        # Label to display the input\n",
    "        self.display_label = QLabel(\"No input yet.\")\n",
    "        self.display_label.setStyleSheet(\"font-size: 18px; font-weight: bold;\")\n",
    "        self.display_label.setAlignment(Qt.AlignmentFlag.AlignCenter)\n",
    "        layout.addWidget(self.display_label)\n",
    "\n",
    "        # Button to trigger the input popup\n",
    "        self.input_button = QPushButton(\"Enter Your Name\")\n",
    "        self.input_button.clicked.connect(self.show_input_popup)\n",
    "        layout.addWidget(self.input_button)\n",
    "\n",
    "    def show_input_popup(self):\n",
    "        \"\"\"\n",
    "        This method is called when the 'Enter Your Name' button is clicked.\n",
    "        It displays an input dialog to get text from the user.\n",
    "        \"\"\"\n",
    "        # QInputDialog.getText returns a tuple: (text, bool_ok)\n",
    "        # text: The string entered by the user\n",
    "        # bool_ok: True if the user clicked OK, False if they clicked Cancel\n",
    "        text, ok = QInputDialog.getText(\n",
    "            self, # Parent widget\n",
    "            \"Input Dialog\", # Window title of the popup\n",
    "            \"Please enter your name:\", # Prompt text\n",
    "            text=\"Guest\" # Default text in the input field\n",
    "        )\n",
    "\n",
    "        if ok and text: # Check if OK was clicked and text was entered\n",
    "            self.display_label.setText(f\"Hello, {text}!\")\n",
    "        elif ok and not text: # User clicked OK but entered nothing\n",
    "            self.display_label.setText(\"You didn't enter a name.\")\n",
    "        else: # User clicked Cancel\n",
    "            self.display_label.setText(\"Input cancelled.\")\n",
    "\n",
    "if __name__ == \"__main__\":\n",
    "    app = QApplication(sys.argv)\n",
    "    window = MyWindow()\n",
    "    window.show()\n",
    "    sys.exit(app.exec())\n"
   ]
  }
 ],
 "metadata": {
  "kernelspec": {
   "display_name": "Python 3",
   "language": "python",
   "name": "python3"
  },
  "language_info": {
   "codemirror_mode": {
    "name": "ipython",
    "version": 3
   },
   "file_extension": ".py",
   "mimetype": "text/x-python",
   "name": "python",
   "nbconvert_exporter": "python",
   "pygments_lexer": "ipython3",
   "version": "3.13.3"
  }
 },
 "nbformat": 4,
 "nbformat_minor": 5
}
